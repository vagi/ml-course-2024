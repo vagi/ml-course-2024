{
  "nbformat": 4,
  "nbformat_minor": 0,
  "metadata": {
    "colab": {
      "provenance": []
    },
    "kernelspec": {
      "name": "python3",
      "display_name": "Python 3"
    },
    "language_info": {
      "name": "python"
    }
  },
  "cells": [
    {
      "cell_type": "code",
      "execution_count": null,
      "metadata": {
        "id": "cuY_tG0_wv_h"
      },
      "outputs": [],
      "source": [
        "# Import needed libraries\n",
        "import numpy as np"
      ]
    },
    {
      "cell_type": "markdown",
      "source": [
        "#### Task 1: **Знайти в датасеті таргет та видалити цю колонку з датасету (видаляти за індексом)**"
      ],
      "metadata": {
        "id": "YlTF3mFSzjf3"
      }
    },
    {
      "cell_type": "code",
      "source": [
        "# Load the dataset without last column using parameter 'usecols='\n",
        "data_iris = np.genfromtxt('https://archive.ics.uci.edu/ml/machine-learning-databases/iris/iris.data', dtype=float, delimiter=',', usecols=(0,1,2,3))"
      ],
      "metadata": {
        "id": "fFF2KYz-xTDL"
      },
      "execution_count": null,
      "outputs": []
    },
    {
      "cell_type": "code",
      "source": [
        "# Check the dataset shape\n",
        "print(f'The dataset shape: rows = {data_iris.shape[0]}, columns = {data_iris.shape[1]}')"
      ],
      "metadata": {
        "colab": {
          "base_uri": "https://localhost:8080/"
        },
        "id": "EQCJnjhbxp3U",
        "outputId": "c247938b-0416-47e0-ce3a-1a9ee807486e"
      },
      "execution_count": null,
      "outputs": [
        {
          "output_type": "stream",
          "name": "stdout",
          "text": [
            "The dataset shape: rows = 150, columns = 4\n"
          ]
        }
      ]
    },
    {
      "cell_type": "code",
      "source": [
        "data_iris[0:2]    # Print first two rows"
      ],
      "metadata": {
        "colab": {
          "base_uri": "https://localhost:8080/"
        },
        "id": "OVWy1WssxqWh",
        "outputId": "55b5ae0a-a5e1-42f1-85e8-50caf57bf4b5"
      },
      "execution_count": null,
      "outputs": [
        {
          "output_type": "execute_result",
          "data": {
            "text/plain": [
              "array([[5.1, 3.5, 1.4, 0.2],\n",
              "       [4.9, 3. , 1.4, 0.2]])"
            ]
          },
          "metadata": {},
          "execution_count": 130
        }
      ]
    },
    {
      "cell_type": "markdown",
      "source": [
        "#### Task 2: **Перетворити колонки, що залишились в 2D масив (або впевнитись, що це уже 2D масив)**"
      ],
      "metadata": {
        "id": "cMPS4I6_0QdH"
      }
    },
    {
      "cell_type": "code",
      "source": [
        "print(f'Розмірність масиву = {data_iris.ndim}')"
      ],
      "metadata": {
        "colab": {
          "base_uri": "https://localhost:8080/"
        },
        "id": "ssslQWkExqhC",
        "outputId": "1dc69618-8947-476b-e1b4-c7724aaae341"
      },
      "execution_count": null,
      "outputs": [
        {
          "output_type": "stream",
          "name": "stdout",
          "text": [
            "Розмірність масиву = 2\n"
          ]
        }
      ]
    },
    {
      "cell_type": "markdown",
      "source": [
        "#### Task 3: **Порахувати mean, median, standard deviation для 1-ї колонки**"
      ],
      "metadata": {
        "id": "c6fPndkCQsnB"
      }
    },
    {
      "cell_type": "code",
      "source": [
        "print(\"Mean of the 1-st column is: \", np.mean(data_iris[:, 0]))"
      ],
      "metadata": {
        "colab": {
          "base_uri": "https://localhost:8080/"
        },
        "id": "E-oiV-QQxqoO",
        "outputId": "be8e0f7a-11e4-4668-8696-e2eee8acf7bb"
      },
      "execution_count": null,
      "outputs": [
        {
          "output_type": "stream",
          "name": "stdout",
          "text": [
            "Mean of the 1-st column is:  5.843333333333334\n"
          ]
        }
      ]
    },
    {
      "cell_type": "code",
      "source": [
        "print(\"Median of the 1-st column is: \", np.median(data_iris[:, 0]))"
      ],
      "metadata": {
        "colab": {
          "base_uri": "https://localhost:8080/"
        },
        "id": "Ij5SatChxquE",
        "outputId": "521c8484-5c3f-4ed4-f1f3-c40a833dbdb2"
      },
      "execution_count": null,
      "outputs": [
        {
          "output_type": "stream",
          "name": "stdout",
          "text": [
            "Median of the 1-st column is:  5.8\n"
          ]
        }
      ]
    },
    {
      "cell_type": "code",
      "source": [
        "print(\"Standard deviation of the 1-st column is: \", np.std(data_iris[:, 0]))"
      ],
      "metadata": {
        "colab": {
          "base_uri": "https://localhost:8080/"
        },
        "id": "G0UCZxEuxq0v",
        "outputId": "ef2b630e-9527-4736-a19e-f4ad9b2cb4fa"
      },
      "execution_count": null,
      "outputs": [
        {
          "output_type": "stream",
          "name": "stdout",
          "text": [
            "Standard deviation of the 1-st column is:  0.8253012917851409\n"
          ]
        }
      ]
    },
    {
      "cell_type": "markdown",
      "source": [
        "#### Task 4: **Вставити 20 значень np.nan на випадкові позиції в масиві (при використанні звичайного рандому можуть накластись позиції, тому знайти рішення, яке гарантує 20 унікальних позицій)**"
      ],
      "metadata": {
        "id": "6xRP4s6ae2Nj"
      }
    },
    {
      "cell_type": "code",
      "source": [
        "num = 20  # Number of NaN to be inserted into the array\n",
        "# data_iris.ravel()[np.random.choice(data_iris.size, num, replace=False)] = np.nan"
      ],
      "metadata": {
        "id": "w0p7q0TBxq6R"
      },
      "execution_count": null,
      "outputs": []
    },
    {
      "cell_type": "code",
      "source": [
        "# Choose random indexes where NaN values will be inserted\n",
        "idx_nan = np.random.choice(data_iris.size, num, replace=False)\n",
        "print(np.sort(idx_nan), \"\\n\", \"Total number of choosen indices:\", len(idx_nan))"
      ],
      "metadata": {
        "id": "hkTCX98_dAX_",
        "colab": {
          "base_uri": "https://localhost:8080/"
        },
        "outputId": "24e18887-a097-46f9-80aa-40eab9c8a9cb"
      },
      "execution_count": null,
      "outputs": [
        {
          "output_type": "stream",
          "name": "stdout",
          "text": [
            "[ 38  61  71 138 148 153 233 269 285 292 357 379 413 414 421 453 485 489\n",
            " 518 537] \n",
            " Total number of choosen indices: 20\n"
          ]
        }
      ]
    },
    {
      "cell_type": "code",
      "source": [
        "# Add NaN values to the array\n",
        "data_iris.ravel()[idx_nan] = np.nan\n",
        "# Print first 10 rows to check whether the NaN values\n",
        "# have been inserted\n",
        "print(data_iris[:10])"
      ],
      "metadata": {
        "id": "qS72rqH0dBWI",
        "colab": {
          "base_uri": "https://localhost:8080/"
        },
        "outputId": "4702d7f8-ab60-470f-bf4d-5546e24e0285"
      },
      "execution_count": null,
      "outputs": [
        {
          "output_type": "stream",
          "name": "stdout",
          "text": [
            "[[5.1 3.5 1.4 0.2]\n",
            " [4.9 3.  1.4 0.2]\n",
            " [4.7 3.2 1.3 0.2]\n",
            " [4.6 3.1 1.5 0.2]\n",
            " [5.  3.6 1.4 0.2]\n",
            " [5.4 3.9 1.7 0.4]\n",
            " [4.6 3.4 1.4 0.3]\n",
            " [5.  3.4 1.5 0.2]\n",
            " [4.4 2.9 1.4 0.2]\n",
            " [4.9 3.1 nan 0.1]]\n"
          ]
        }
      ]
    },
    {
      "cell_type": "markdown",
      "source": [
        "#### Task 5: **Знайти позиції вставлених значень np.nan в 1-й колонці**"
      ],
      "metadata": {
        "id": "jsSFk5JkuegQ"
      }
    },
    {
      "cell_type": "code",
      "source": [
        "# Find indices of nan values in the first column\n",
        "idxs_nan_first_column = np.argwhere(np.isnan(data_iris[:, 0]))\n",
        "print(f\"Here are indices of nan values in the first column of the array:\\n {idxs_nan_first_column}\")"
      ],
      "metadata": {
        "id": "ukn2AKATdBcr",
        "colab": {
          "base_uri": "https://localhost:8080/"
        },
        "outputId": "2568ae6a-078e-4830-ec37-b0496a42fddf"
      },
      "execution_count": null,
      "outputs": [
        {
          "output_type": "stream",
          "name": "stdout",
          "text": [
            "Here are indices of nan values in the first column of the array:\n",
            " [[37]\n",
            " [73]]\n"
          ]
        }
      ]
    },
    {
      "cell_type": "markdown",
      "source": [
        "#### Task 6: **Відфільтрувати массив за умовою: значення в 3-й колонці > 1.5 та значения в 1-й колонці < 5.0 (зберегти у іншу змінну)**"
      ],
      "metadata": {
        "id": "CNYEB6uIUdRn"
      }
    },
    {
      "cell_type": "code",
      "source": [
        "filter = (data_iris[:, 2] > 1.5) & (data_iris[:, 0] < 5.0)\n",
        "data_iris_filtered = data_iris[filter]\n",
        "print(f\"Filtered array with shape {data_iris_filtered.shape}:\\n {data_iris_filtered}\")"
      ],
      "metadata": {
        "id": "G4myqP0txq_R",
        "colab": {
          "base_uri": "https://localhost:8080/"
        },
        "outputId": "bc7b7331-3b51-4ba3-8294-584cc5384e0b"
      },
      "execution_count": null,
      "outputs": [
        {
          "output_type": "stream",
          "name": "stdout",
          "text": [
            "Filtered array with shape (6, 4):\n",
            " [[4.8 3.4 1.6 0.2]\n",
            " [4.8 3.4 1.9 0.2]\n",
            " [4.7 3.2 1.6 0.2]\n",
            " [4.8 3.1 1.6 0.2]\n",
            " [4.9 2.4 3.3 1. ]\n",
            " [4.9 2.5 4.5 1.7]]\n"
          ]
        }
      ]
    },
    {
      "cell_type": "markdown",
      "source": [
        "#### Task 7: **Замінити всі значення np.nan на 0**"
      ],
      "metadata": {
        "id": "q1xVTXCVcN7Y"
      }
    },
    {
      "cell_type": "code",
      "source": [
        "all_nan = np.isnan(data_iris)\n",
        "data_iris[all_nan] = 0\n",
        "data_iris[:5, :]"
      ],
      "metadata": {
        "colab": {
          "base_uri": "https://localhost:8080/"
        },
        "id": "RRM9DUe_UQ3M",
        "outputId": "557fa8cf-4271-4ec1-c499-2aca5d195229"
      },
      "execution_count": null,
      "outputs": [
        {
          "output_type": "execute_result",
          "data": {
            "text/plain": [
              "array([[5.1, 3.5, 1.4, 0.2],\n",
              "       [4.9, 3. , 1.4, 0.2],\n",
              "       [4.7, 3.2, 1.3, 0.2],\n",
              "       [4.6, 3.1, 1.5, 0.2],\n",
              "       [5. , 3.6, 1.4, 0.2]])"
            ]
          },
          "metadata": {},
          "execution_count": 140
        }
      ]
    },
    {
      "cell_type": "markdown",
      "source": [
        "#### Task 8: **Порахувати всі унікальні значення в массиві та вивести їх разом із кількістю**"
      ],
      "metadata": {
        "id": "pKQnHIaZfTfm"
      }
    },
    {
      "cell_type": "code",
      "source": [
        "uniqs, counts = np.unique(data_iris, return_counts=True)\n",
        "for i in range(len(uniqs)):\n",
        "  print(f\"There are {counts[i]} following unique values: {uniqs[i]}\")"
      ],
      "metadata": {
        "colab": {
          "base_uri": "https://localhost:8080/"
        },
        "id": "IKUYIHSQURJt",
        "outputId": "d6fb0504-3abd-4d10-8815-86496ee09d92"
      },
      "execution_count": null,
      "outputs": [
        {
          "output_type": "stream",
          "name": "stdout",
          "text": [
            "There are 20 following unique values: 0.0\n",
            "There are 6 following unique values: 0.1\n",
            "There are 28 following unique values: 0.2\n",
            "There are 6 following unique values: 0.3\n",
            "There are 7 following unique values: 0.4\n",
            "There are 1 following unique values: 0.5\n",
            "There are 1 following unique values: 0.6\n",
            "There are 8 following unique values: 1.0\n",
            "There are 4 following unique values: 1.1\n",
            "There are 7 following unique values: 1.2\n",
            "There are 19 following unique values: 1.3\n",
            "There are 20 following unique values: 1.4\n",
            "There are 24 following unique values: 1.5\n",
            "There are 11 following unique values: 1.6\n",
            "There are 6 following unique values: 1.7\n",
            "There are 12 following unique values: 1.8\n",
            "There are 7 following unique values: 1.9\n",
            "There are 7 following unique values: 2.0\n",
            "There are 6 following unique values: 2.1\n",
            "There are 6 following unique values: 2.2\n",
            "There are 12 following unique values: 2.3\n",
            "There are 6 following unique values: 2.4\n",
            "There are 9 following unique values: 2.5\n",
            "There are 4 following unique values: 2.6\n",
            "There are 8 following unique values: 2.7\n",
            "There are 11 following unique values: 2.8\n",
            "There are 8 following unique values: 2.9\n",
            "There are 25 following unique values: 3.0\n",
            "There are 12 following unique values: 3.1\n",
            "There are 13 following unique values: 3.2\n",
            "There are 8 following unique values: 3.3\n",
            "There are 12 following unique values: 3.4\n",
            "There are 8 following unique values: 3.5\n",
            "There are 4 following unique values: 3.6\n",
            "There are 4 following unique values: 3.7\n",
            "There are 7 following unique values: 3.8\n",
            "There are 5 following unique values: 3.9\n",
            "There are 6 following unique values: 4.0\n",
            "There are 4 following unique values: 4.1\n",
            "There are 5 following unique values: 4.2\n",
            "There are 3 following unique values: 4.3\n",
            "There are 7 following unique values: 4.4\n",
            "There are 9 following unique values: 4.5\n",
            "There are 7 following unique values: 4.6\n",
            "There are 7 following unique values: 4.7\n",
            "There are 9 following unique values: 4.8\n",
            "There are 10 following unique values: 4.9\n",
            "There are 14 following unique values: 5.0\n",
            "There are 17 following unique values: 5.1\n",
            "There are 6 following unique values: 5.2\n",
            "There are 3 following unique values: 5.3\n",
            "There are 8 following unique values: 5.4\n",
            "There are 10 following unique values: 5.5\n",
            "There are 11 following unique values: 5.6\n",
            "There are 11 following unique values: 5.7\n",
            "There are 9 following unique values: 5.8\n",
            "There are 5 following unique values: 5.9\n",
            "There are 8 following unique values: 6.0\n",
            "There are 8 following unique values: 6.1\n",
            "There are 4 following unique values: 6.2\n",
            "There are 10 following unique values: 6.3\n",
            "There are 8 following unique values: 6.4\n",
            "There are 5 following unique values: 6.5\n",
            "There are 3 following unique values: 6.6\n",
            "There are 10 following unique values: 6.7\n",
            "There are 3 following unique values: 6.8\n",
            "There are 5 following unique values: 6.9\n",
            "There are 1 following unique values: 7.0\n",
            "There are 1 following unique values: 7.1\n",
            "There are 3 following unique values: 7.2\n",
            "There are 1 following unique values: 7.3\n",
            "There are 1 following unique values: 7.4\n",
            "There are 1 following unique values: 7.6\n",
            "There are 4 following unique values: 7.7\n",
            "There are 1 following unique values: 7.9\n"
          ]
        }
      ]
    },
    {
      "cell_type": "markdown",
      "source": [
        "#### Task 9: **Розбити масив по вертикалі на 2 рівні частини (не використовувати абсолютні числа, мають бути два массиви по 4 колонки)**"
      ],
      "metadata": {
        "id": "fdQE90fJjGYt"
      }
    },
    {
      "cell_type": "code",
      "source": [
        "data_iris_1, data_iris_2 = np.vsplit(data_iris, 2)\n",
        "print(f\"After spliting we have first new array with shape: {data_iris_1.shape},\\nand second new array with shape: {data_iris_2.shape}\")"
      ],
      "metadata": {
        "colab": {
          "base_uri": "https://localhost:8080/"
        },
        "id": "YTxP3Jw8URUN",
        "outputId": "a9735e72-1a72-46e9-a2f8-5588b5a271cc"
      },
      "execution_count": null,
      "outputs": [
        {
          "output_type": "stream",
          "name": "stdout",
          "text": [
            "After spliting we have first new array with shape: (75, 4),\n",
            "and second new array with shape: (75, 4)\n"
          ]
        }
      ]
    },
    {
      "cell_type": "markdown",
      "source": [
        "#### Task 10: **Відсортувати обидва массиви по 1-й колонці: 1-й за збільшенням, 2-й за зменшенням**"
      ],
      "metadata": {
        "id": "cKvRdebQoCV_"
      }
    },
    {
      "cell_type": "code",
      "source": [
        "data_iris_1_sorted = data_iris_1[data_iris_1[:, 0].argsort()]\n",
        "data_iris_2_sorted = data_iris_2[data_iris_2[:, 0].argsort()[::-1]]\n",
        "print(f\"Sorted first array (view of a part of it) by first column ascending:\\n {data_iris_1_sorted[:7, :]}\")\n",
        "print(f\"Sorted second array (view of a part of it) by first column descending:\\n {data_iris_2_sorted[:7, :]}\")"
      ],
      "metadata": {
        "colab": {
          "base_uri": "https://localhost:8080/"
        },
        "id": "oEn7aVX0URm7",
        "outputId": "ce78b35a-0884-4bd9-a173-5c72a457c408"
      },
      "execution_count": null,
      "outputs": [
        {
          "output_type": "stream",
          "name": "stdout",
          "text": [
            "Sorted first array (view of a part of it) by first column ascending:\n",
            " [[0.  3.1 1.5 0.1]\n",
            " [0.  2.8 4.7 1.2]\n",
            " [4.3 3.  1.1 0.1]\n",
            " [4.4 3.2 1.3 0.2]\n",
            " [4.4 0.  1.3 0.2]\n",
            " [4.4 2.9 1.4 0.2]\n",
            " [4.5 2.3 1.3 0.3]]\n",
            "Sorted second array (view of a part of it) by first column descending:\n",
            " [[7.9 3.8 6.4 2. ]\n",
            " [7.7 0.  6.7 2. ]\n",
            " [7.7 2.6 6.9 2.3]\n",
            " [7.7 3.8 6.7 2.2]\n",
            " [7.7 3.  6.1 2.3]\n",
            " [7.6 0.  6.6 2.1]\n",
            " [7.4 2.8 6.1 1.9]]\n"
          ]
        }
      ]
    },
    {
      "cell_type": "markdown",
      "source": [
        "#### Task 11: **Зібрати обидва массиви в одне ціле**"
      ],
      "metadata": {
        "id": "wDQh7nvWuifH"
      }
    },
    {
      "cell_type": "code",
      "source": [
        "data_iris_sorted = np.vstack((data_iris_1_sorted, data_iris_2_sorted))"
      ],
      "metadata": {
        "id": "lrrmvmhwr3TB"
      },
      "execution_count": null,
      "outputs": []
    },
    {
      "cell_type": "markdown",
      "source": [
        "#### Task 12: **Знайти найбільш часто повторюване значення в массиві**"
      ],
      "metadata": {
        "id": "TSNCygo6xDx-"
      }
    },
    {
      "cell_type": "code",
      "source": [
        "# Search for unique values and their counts in the array\n",
        "uniqs, counts = np.unique(data_iris_sorted, return_counts=True)\n",
        "max_counts_idx = np.argmax(counts)\n",
        "most_freq_value = uniqs[max_counts_idx]\n",
        "print(f\"Most frequent value in the array is: {most_freq_value},\\n\\\n",
        "it is repeatead {counts[max_counts_idx]} times\")"
      ],
      "metadata": {
        "colab": {
          "base_uri": "https://localhost:8080/"
        },
        "id": "-vJl4BVYr20Y",
        "outputId": "1bbe7548-7eb0-4256-b1fd-35ed50e6f7e5"
      },
      "execution_count": null,
      "outputs": [
        {
          "output_type": "stream",
          "name": "stdout",
          "text": [
            "Most frequent value in the array is: 0.2,\n",
            "it is repeatead 28 times\n"
          ]
        }
      ]
    },
    {
      "cell_type": "markdown",
      "source": [
        "#### Task 13: **Написати функцію, яка б множила всі значення в колонці, які менше середнього значения в цій колонці, на 2, і ділила інші значення на 4.**"
      ],
      "metadata": {
        "id": "hMmO9vWJBXbE"
      }
    },
    {
      "cell_type": "code",
      "source": [
        "def calculator(vector: np.ndarray, mean: float) -> np.ndarray:\n",
        "  '''\n",
        "  Function accepts numpy.ndarray, provides calculation\n",
        "  on its values with certain conditions and\n",
        "  returns numpy.ndarray with results\n",
        "  '''\n",
        "  if vector < mean:\n",
        "    return vector * 2\n",
        "  else:\n",
        "    return vector / 4"
      ],
      "metadata": {
        "id": "EdFPEsSgUR21"
      },
      "execution_count": null,
      "outputs": []
    },
    {
      "cell_type": "markdown",
      "source": [
        "#### Task 14: **Застосувати отриману функцію до 3-ї колонки**"
      ],
      "metadata": {
        "id": "x1MeWGxpTIrU"
      }
    },
    {
      "cell_type": "code",
      "source": [
        "# Calculate mean of 3-rd column\n",
        "mean = data_iris_sorted[:, 2].mean()\n",
        "\n",
        "# Vectorize the function with the purpose to apply it\n",
        "# to vectors.\n",
        "calculator_vector = np.vectorize(calculator, otypes=[float])\n",
        "\n",
        "# Apply the function to the 3-rd column of the array in place\n",
        "data_iris_sorted[:, 2] = calculator_vector(data_iris_sorted[:, 2], mean)\n",
        "data_iris_sorted[:10, :]    # Check whether the 3-rd column values have been changed"
      ],
      "metadata": {
        "colab": {
          "base_uri": "https://localhost:8080/"
        },
        "id": "g0PodgtITMLX",
        "outputId": "b19b83d2-c1dd-4f40-c885-7e39856e771f"
      },
      "execution_count": null,
      "outputs": [
        {
          "output_type": "execute_result",
          "data": {
            "text/plain": [
              "array([[0.   , 3.1  , 3.   , 0.1  ],\n",
              "       [0.   , 2.8  , 1.175, 1.2  ],\n",
              "       [4.3  , 3.   , 2.2  , 0.1  ],\n",
              "       [4.4  , 3.2  , 2.6  , 0.2  ],\n",
              "       [4.4  , 0.   , 2.6  , 0.2  ],\n",
              "       [4.4  , 2.9  , 2.8  , 0.2  ],\n",
              "       [4.5  , 2.3  , 2.6  , 0.3  ],\n",
              "       [4.6  , 3.4  , 2.8  , 0.3  ],\n",
              "       [4.6  , 3.1  , 3.   , 0.2  ],\n",
              "       [4.6  , 3.6  , 2.   , 0.2  ]])"
            ]
          },
          "metadata": {},
          "execution_count": 149
        }
      ]
    },
    {
      "cell_type": "markdown",
      "source": [
        "### **End of Notebook**"
      ],
      "metadata": {
        "id": "uqenaEpZfvRO"
      }
    },
    {
      "cell_type": "code",
      "source": [],
      "metadata": {
        "id": "U-3psJ0vfUYX"
      },
      "execution_count": null,
      "outputs": []
    }
  ]
}