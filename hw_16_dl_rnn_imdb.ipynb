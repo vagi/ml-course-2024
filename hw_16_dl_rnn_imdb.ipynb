{
  "metadata": {
    "accelerator": "GPU",
    "colab": {
      "gpuType": "T4",
      "provenance": []
    },
    "kernelspec": {
      "name": "python3",
      "display_name": "Python 3",
      "language": "python"
    },
    "language_info": {
      "name": "python",
      "version": "3.10.13",
      "mimetype": "text/x-python",
      "codemirror_mode": {
        "name": "ipython",
        "version": 3
      },
      "pygments_lexer": "ipython3",
      "nbconvert_exporter": "python",
      "file_extension": ".py"
    },
    "kaggle": {
      "accelerator": "nvidiaTeslaT4",
      "dataSources": [],
      "dockerImageVersionId": 30747,
      "isInternetEnabled": true,
      "language": "python",
      "sourceType": "notebook",
      "isGpuEnabled": true
    }
  },
  "nbformat_minor": 0,
  "nbformat": 4,
  "cells": [
    {
      "cell_type": "code",
      "source": [
        "import numpy as np\n",
        "import keras\n",
        "from keras import layers     #######\n",
        "import re\n",
        "import string\n",
        "from bs4 import BeautifulSoup\n",
        "from tqdm import tqdm\n",
        "\n",
        "from keras.models import Sequential\n",
        "from keras.layers import Embedding, Bidirectional, LSTM, Dense, Dropout\n",
        "from keras.datasets import imdb\n",
        "from keras.utils import to_categorical, pad_sequences, text_dataset_from_directory\n",
        "# from keras.layers import SpatialDropout1D\n",
        "from tensorflow.keras.preprocessing.text import Tokenizer\n",
        "\n",
        "\n",
        "import matplotlib.pyplot as plt"
      ],
      "metadata": {
        "id": "WR87UEhhSPYJ",
        "execution": {
          "iopub.status.busy": "2024-08-13T17:12:45.818678Z",
          "iopub.execute_input": "2024-08-13T17:12:45.819297Z",
          "iopub.status.idle": "2024-08-13T17:12:58.149372Z",
          "shell.execute_reply.started": "2024-08-13T17:12:45.819264Z",
          "shell.execute_reply": "2024-08-13T17:12:58.148594Z"
        },
        "trusted": true,
        "outputId": "1d805043-4a58-442f-c32c-4b222774222d"
      },
      "execution_count": null,
      "outputs": [
        {
          "name": "stderr",
          "text": "2024-08-13 17:12:47.523924: E external/local_xla/xla/stream_executor/cuda/cuda_dnn.cc:9261] Unable to register cuDNN factory: Attempting to register factory for plugin cuDNN when one has already been registered\n2024-08-13 17:12:47.524049: E external/local_xla/xla/stream_executor/cuda/cuda_fft.cc:607] Unable to register cuFFT factory: Attempting to register factory for plugin cuFFT when one has already been registered\n2024-08-13 17:12:47.646959: E external/local_xla/xla/stream_executor/cuda/cuda_blas.cc:1515] Unable to register cuBLAS factory: Attempting to register factory for plugin cuBLAS when one has already been registered\n",
          "output_type": "stream"
        }
      ]
    },
    {
      "cell_type": "code",
      "source": [
        "# from google.colab import drive\n",
        "# drive.mount('/content/drive')"
      ],
      "metadata": {
        "id": "UCkDHPZrGVZO",
        "execution": {
          "iopub.status.busy": "2024-08-13T17:12:58.150843Z",
          "iopub.execute_input": "2024-08-13T17:12:58.151339Z",
          "iopub.status.idle": "2024-08-13T17:12:58.155191Z",
          "shell.execute_reply.started": "2024-08-13T17:12:58.151313Z",
          "shell.execute_reply": "2024-08-13T17:12:58.154222Z"
        },
        "trusted": true
      },
      "execution_count": null,
      "outputs": []
    },
    {
      "cell_type": "markdown",
      "source": [
        "## **1. Load and Arrange Dataset**"
      ],
      "metadata": {
        "id": "ZRowOjUPShmt"
      }
    },
    {
      "cell_type": "markdown",
      "source": [
        "### 1.1. Load Dataset"
      ],
      "metadata": {
        "id": "1c1Lfbo8EbWN"
      }
    },
    {
      "cell_type": "code",
      "source": [
        "max_features = 20000  # Only consider the top 20k words\n",
        "maxlen = 800  # Only consider the first 800 words of each movie review"
      ],
      "metadata": {
        "id": "fAPGhBngh7pM",
        "execution": {
          "iopub.status.busy": "2024-08-13T17:12:58.156180Z",
          "iopub.execute_input": "2024-08-13T17:12:58.156432Z",
          "iopub.status.idle": "2024-08-13T17:12:58.176231Z",
          "shell.execute_reply.started": "2024-08-13T17:12:58.156388Z",
          "shell.execute_reply": "2024-08-13T17:12:58.175466Z"
        },
        "trusted": true
      },
      "execution_count": null,
      "outputs": []
    },
    {
      "cell_type": "code",
      "source": [
        "# Load vectorized dataset\n",
        "(x_train, y_train), (x_val, y_val) = keras.datasets.imdb.load_data(\n",
        "    num_words=max_features,\n",
        "    skip_top=30,\n",
        "    max_len = maxlen\n",
        "    seed = 113\n",
        "    )\n",
        "print(len(x_train), \"Training sequences\")\n",
        "print(len(x_val), \"Validation sequences\")\n",
        "\n",
        "# Use pad_sequence to standardize sequence length:\n",
        "# this will truncate sequences longer than 800 words and zero-pad sequences shorter than 800 words.\n",
        "x_train = keras.utils.pad_sequences(x_train, maxlen=maxlen)\n",
        "x_val = keras.utils.pad_sequences(x_val, maxlen=maxlen)"
      ],
      "metadata": {
        "colab": {
          "base_uri": "https://localhost:8080/"
        },
        "id": "ObquLiAyiCPk",
        "outputId": "ff877d35-de58-4503-d375-10012671e708",
        "execution": {
          "iopub.status.busy": "2024-08-13T17:13:09.641854Z",
          "iopub.execute_input": "2024-08-13T17:13:09.642218Z",
          "iopub.status.idle": "2024-08-13T17:13:15.838844Z",
          "shell.execute_reply.started": "2024-08-13T17:13:09.642191Z",
          "shell.execute_reply": "2024-08-13T17:13:15.837655Z"
        },
        "trusted": true
      },
      "execution_count": null,
      "outputs": [
        {
          "name": "stdout",
          "text": "Downloading data from https://storage.googleapis.com/tensorflow/tf-keras-datasets/imdb.npz\n\u001b[1m17464789/17464789\u001b[0m \u001b[32m━━━━━━━━━━━━━━━━━━━━\u001b[0m\u001b[37m\u001b[0m \u001b[1m0s\u001b[0m 0us/step\n25000 Training sequences\n25000 Validation sequences\n",
          "output_type": "stream"
        }
      ]
    },
    {
      "cell_type": "code",
      "source": [
        "x_train.shape"
      ],
      "metadata": {
        "colab": {
          "base_uri": "https://localhost:8080/"
        },
        "id": "-EaWixNTGdET",
        "outputId": "b2b658fa-0c18-428e-a024-4bdf79f31092",
        "execution": {
          "iopub.status.busy": "2024-08-13T17:13:15.840398Z",
          "iopub.execute_input": "2024-08-13T17:13:15.840701Z",
          "iopub.status.idle": "2024-08-13T17:13:15.847893Z",
          "shell.execute_reply.started": "2024-08-13T17:13:15.840676Z",
          "shell.execute_reply": "2024-08-13T17:13:15.846819Z"
        },
        "trusted": true
      },
      "execution_count": null,
      "outputs": [
        {
          "execution_count": 5,
          "output_type": "execute_result",
          "data": {
            "text/plain": "(25000, 800)"
          },
          "metadata": {}
        }
      ]
    },
    {
      "cell_type": "code",
      "source": [
        "x_train[1]"
      ],
      "metadata": {
        "colab": {
          "base_uri": "https://localhost:8080/"
        },
        "id": "liZMw2CMkVCA",
        "outputId": "5ba8f38f-1669-4244-e566-79d9368dfc6b",
        "execution": {
          "iopub.status.busy": "2024-08-13T17:13:18.470049Z",
          "iopub.execute_input": "2024-08-13T17:13:18.470370Z",
          "iopub.status.idle": "2024-08-13T17:13:18.479346Z",
          "shell.execute_reply.started": "2024-08-13T17:13:18.470345Z",
          "shell.execute_reply": "2024-08-13T17:13:18.478548Z"
        },
        "trusted": true
      },
      "execution_count": null,
      "outputs": [
        {
          "execution_count": 6,
          "output_type": "execute_result",
          "data": {
            "text/plain": "array([    0,     0,     0,     0,     0,     0,     0,     0,     0,\n           0,     0,     0,     0,     0,     0,     0,     0,     0,\n           0,     0,     0,     0,     0,     0,     0,     0,     0,\n           0,     0,     0,     0,     0,     0,     0,     0,     0,\n           0,     0,     0,     0,     0,     0,     0,     0,     0,\n           0,     0,     0,     0,     0,     0,     0,     0,     0,\n           0,     0,     0,     0,     0,     0,     0,     0,     0,\n           0,     0,     0,     0,     0,     0,     0,     0,     0,\n           0,     0,     0,     0,     0,     0,     0,     0,     0,\n           0,     0,     0,     0,     0,     0,     0,     0,     0,\n           0,     0,     0,     0,     0,     0,     0,     0,     0,\n           0,     0,     0,     0,     0,     0,     0,     0,     0,\n           0,     0,     0,     0,     0,     0,     0,     0,     0,\n           0,     0,     0,     0,     0,     0,     0,     0,     0,\n           0,     0,     0,     0,     0,     0,     0,     0,     0,\n           0,     0,     0,     0,     0,     0,     0,     0,     0,\n           0,     0,     0,     0,     0,     0,     0,     0,     0,\n           0,     0,     0,     0,     0,     0,     0,     0,     0,\n           0,     0,     0,     0,     0,     0,     0,     0,     0,\n           0,     0,     0,     0,     0,     0,     0,     0,     0,\n           0,     0,     0,     0,     0,     0,     0,     0,     0,\n           0,     0,     0,     0,     0,     0,     0,     0,     0,\n           0,     0,     0,     0,     0,     0,     0,     0,     0,\n           0,     0,     0,     0,     0,     0,     0,     0,     0,\n           0,     0,     0,     0,     0,     0,     0,     0,     0,\n           0,     0,     0,     0,     0,     0,     0,     0,     0,\n           0,     0,     0,     0,     0,     0,     0,     0,     0,\n           0,     0,     0,     0,     0,     0,     0,     0,     0,\n           0,     0,     0,     0,     0,     0,     0,     0,     0,\n           0,     0,     0,     0,     0,     0,     0,     0,     0,\n           0,     0,     0,     0,     0,     0,     0,     0,     0,\n           0,     0,     0,     0,     0,     0,     0,     0,     0,\n           0,     0,     0,     0,     0,     0,     0,     0,     0,\n           0,     0,     0,     0,     0,     0,     0,     0,     0,\n           0,     0,     0,     0,     0,     0,     0,     0,     0,\n           0,     0,     0,     0,     0,     0,     0,     0,     0,\n           0,     0,     0,     0,     0,     0,     0,     0,     0,\n           0,     0,     0,     0,     0,     0,     0,     0,     0,\n           0,     0,     0,     0,     0,     0,     0,     0,     0,\n           0,     0,     0,     0,     0,     0,     0,     0,     0,\n           0,     0,     0,     0,     0,     0,     0,     0,     0,\n           0,     0,     0,     0,     0,     0,     0,     0,     0,\n           0,     0,     0,     0,     0,     0,     0,     0,     0,\n           0,     0,     0,     0,     0,     0,     0,     0,     0,\n           0,     0,     0,     0,     0,     0,     0,     0,     0,\n           0,     0,     0,     0,     0,     0,     0,     0,     0,\n           0,     0,     0,     0,     0,     0,     0,     0,     0,\n           0,     0,     0,     0,     0,     0,     0,     0,     0,\n           0,     0,     0,     0,     0,     0,     0,     0,     0,\n           0,     0,     0,     0,     0,     0,     0,     0,     0,\n           0,     0,     0,     0,     0,     0,     0,     0,     0,\n           0,     0,     0,     0,     0,     0,     0,     0,     0,\n           0,     0,     0,     0,     0,     0,     0,     0,     0,\n           0,     0,     0,     0,     0,     0,     0,     0,     0,\n           0,     0,     0,     0,     0,     0,     0,     0,     0,\n           0,     0,     0,     0,     0,     0,     0,     0,     0,\n           0,     0,     0,     0,     0,     0,     0,     0,     0,\n           0,     0,     0,     0,     0,     0,     0,     0,     0,\n           0,     0,     0,     0,     0,     0,     0,     0,     0,\n           0,     0,     0,     0,     0,     0,     0,     0,     0,\n           0,     0,     0,     0,     0,     0,     0,     0,     0,\n           0,     0,     0,     0,     0,     0,     0,     0,     0,\n           0,     0,     0,     0,     0,     0,     0,     0,     0,\n           0,     0,     0,     0,     0,     0,     0,     0,     0,\n           0,     0,     0,     0,     0,     0,     0,     0,     0,\n           0,     0,     0,     0,     0,     0,     0,     0,     0,\n           0,     0,     0,     0,     0,     0,     0,     0,     0,\n           0,     0,     0,     0,     0,     0,     0,     0,     2,\n         194,  1153,   194,  8255,    78,   228,     2,     2,  1463,\n        4369,  5012,   134,     2,     2,   715,     2,   118,  1634,\n           2,   394,     2,     2,   119,   954,   189,   102,     2,\n         207,   110,  3103,     2,     2,    69,   188,     2,    30,\n           2,     2,     2,   249,   126,    93,     2,   114,     2,\n        2300,  1523,     2,   647,     2,   116,     2,    35,  8163,\n           2,   229,     2,   340,  1322,     2,   118,     2,     2,\n         130,  4901,     2,     2,  1002,     2,    89,     2,   952,\n          46,    37,     2,   455,     2,    45,    43,    38,  1543,\n        1905,   398,     2,  1649,     2,  6853,     2,   163,     2,\n        3215, 10156,     2,  1153,     2,   194,   775,     2,  8255,\n       11596,   349,  2637,   148,   605, 15358,  8003,     2,   123,\n         125,    68,     2,  6853,     2,   349,   165,  4362,    98,\n           2,     2,   228,     2,    43,     2,  1157,     2,   299,\n         120,     2,   120,   174,     2,   220,   175,   136,    50,\n           2,  4373,   228,  8255,     2,     2,   656,   245,  2350,\n           2,     2,  9837,   131,   152,   491,     2,     2,    32,\n        7464,  1212,     2,     2,     2,   371,    78,     2,   625,\n          64,  1382,     2,     2,   168,   145,     2,     2,  1690,\n           2,     2,     2,  1355,     2,     2,     2,    52,   154,\n         462,    33,    89,    78,   285,     2,   145,    95],\n      dtype=int32)"
          },
          "metadata": {}
        }
      ]
    },
    {
      "cell_type": "code",
      "source": [
        "y_train[:5]"
      ],
      "metadata": {
        "execution": {
          "iopub.status.busy": "2024-08-13T17:13:22.413796Z",
          "iopub.execute_input": "2024-08-13T17:13:22.414409Z",
          "iopub.status.idle": "2024-08-13T17:13:22.421195Z",
          "shell.execute_reply.started": "2024-08-13T17:13:22.414375Z",
          "shell.execute_reply": "2024-08-13T17:13:22.420224Z"
        },
        "trusted": true,
        "id": "AQyf8eNvDugr",
        "outputId": "902dd81e-ad13-479f-95a1-7cdaa5b7793b"
      },
      "execution_count": null,
      "outputs": [
        {
          "execution_count": 7,
          "output_type": "execute_result",
          "data": {
            "text/plain": "array([1, 0, 0, 1, 0])"
          },
          "metadata": {}
        }
      ]
    },
    {
      "cell_type": "markdown",
      "source": [
        "### 1.2. Clean Texts"
      ],
      "metadata": {
        "id": "CMm4aEd5FzZ1"
      }
    },
    {
      "cell_type": "code",
      "source": [
        "# Clean text data\n",
        "def clean_text(text):\n",
        "    '''\n",
        "    This function removes html tags,\n",
        "    punctuation, digits and lowercase\n",
        "    text\n",
        "    '''\n",
        "    # Remove HTML tags\n",
        "    text = BeautifulSoup(text, \"html.parser\").get_text()\n",
        "    # Remove punctuation\n",
        "    text = text.translate(str.maketrans('', '', string.punctuation))\n",
        "    # Remove digits\n",
        "    text = re.sub(r'\\d+', '', text)\n",
        "    # Lowercase the text\n",
        "    text = text.lower()\n",
        "    return text"
      ],
      "metadata": {
        "id": "eK1fHd68FwIZ",
        "execution": {
          "iopub.status.busy": "2024-08-13T17:13:24.521750Z",
          "iopub.execute_input": "2024-08-13T17:13:24.522604Z",
          "iopub.status.idle": "2024-08-13T17:13:24.527655Z",
          "shell.execute_reply.started": "2024-08-13T17:13:24.522564Z",
          "shell.execute_reply": "2024-08-13T17:13:24.526699Z"
        },
        "trusted": true
      },
      "execution_count": null,
      "outputs": []
    },
    {
      "cell_type": "markdown",
      "source": [
        "**Так як ми завантажили підготовлений векторизований датасет (представлення токенів у числах), щоби почистити текст ми маємо декодувати його у текстову репрезентацію**"
      ],
      "metadata": {
        "id": "8APYEbtDE7Gi"
      }
    },
    {
      "cell_type": "code",
      "source": [
        "# Function to decode and clean reviews\n",
        "word_index = imdb.get_word_index()\n",
        "\n",
        "def decode_review(encoded_review):\n",
        "    '''\n",
        "    The function decodes data into text representation\n",
        "    and clean the text\n",
        "    '''\n",
        "    reverse_word_index = {v: k for k, v in word_index.items()}\n",
        "    decoded_review = ' '.join([reverse_word_index.get(i - 3, '?') for i in encoded_review])\n",
        "    return clean_text(decoded_review)"
      ],
      "metadata": {
        "id": "oNj8m4cBFwPq",
        "execution": {
          "iopub.status.busy": "2024-08-13T17:13:26.020315Z",
          "iopub.execute_input": "2024-08-13T17:13:26.021150Z",
          "iopub.status.idle": "2024-08-13T17:13:26.204095Z",
          "shell.execute_reply.started": "2024-08-13T17:13:26.021118Z",
          "shell.execute_reply": "2024-08-13T17:13:26.202991Z"
        },
        "trusted": true,
        "outputId": "8569ad82-bf5b-4c9d-dca2-bb9f8ca352a5"
      },
      "execution_count": null,
      "outputs": [
        {
          "name": "stdout",
          "text": "Downloading data from https://storage.googleapis.com/tensorflow/tf-keras-datasets/imdb_word_index.json\n\u001b[1m1641221/1641221\u001b[0m \u001b[32m━━━━━━━━━━━━━━━━━━━━\u001b[0m\u001b[37m\u001b[0m \u001b[1m0s\u001b[0m 0us/step\n",
          "output_type": "stream"
        }
      ]
    },
    {
      "cell_type": "code",
      "source": [
        "# Decode reviews from digital representation to text and clean texts\n",
        "x_train = [decode_review(review) for review in tqdm(x_train, desc=\"Processing training data\")]\n",
        "x_val = [decode_review(review) for review in tqdm(x_val, desc=\"Processing val data\")]"
      ],
      "metadata": {
        "colab": {
          "base_uri": "https://localhost:8080/"
        },
        "id": "IfwsYtD1FwVx",
        "outputId": "c69a872e-fd62-4d05-c6d8-44f9647aa9f3",
        "execution": {
          "iopub.status.busy": "2024-08-13T17:13:31.142670Z",
          "iopub.execute_input": "2024-08-13T17:13:31.143208Z",
          "iopub.status.idle": "2024-08-13T17:24:34.817646Z",
          "shell.execute_reply.started": "2024-08-13T17:13:31.143167Z",
          "shell.execute_reply": "2024-08-13T17:24:34.816792Z"
        },
        "trusted": true
      },
      "execution_count": null,
      "outputs": [
        {
          "name": "stderr",
          "text": "Processing training data: 100%|██████████| 25000/25000 [05:27<00:00, 76.38it/s]\nProcessing val data: 100%|██████████| 25000/25000 [05:36<00:00, 74.32it/s]\n",
          "output_type": "stream"
        }
      ]
    },
    {
      "cell_type": "markdown",
      "source": [
        "### 1.3. Tokenize the Text"
      ],
      "metadata": {
        "id": "g-1j_RBAGgWl"
      }
    },
    {
      "cell_type": "code",
      "source": [
        "# Tokenize the text\n",
        "tokenizer = Tokenizer(\n",
        "    num_words=max_features,\n",
        "    # Clean the text off symbols additionally in any case\n",
        "    filters='!\"#$%&()*+,-./:;<=>?@[\\\\]^_`{|}~\\t\\n'\n",
        ")\n",
        "\n",
        "tokenizer.fit_on_texts(x_train)"
      ],
      "metadata": {
        "id": "uaEbCES7Fwa3",
        "execution": {
          "iopub.status.busy": "2024-08-13T17:31:27.217753Z",
          "iopub.execute_input": "2024-08-13T17:31:27.218079Z",
          "iopub.status.idle": "2024-08-13T17:31:31.474407Z",
          "shell.execute_reply.started": "2024-08-13T17:31:27.218055Z",
          "shell.execute_reply": "2024-08-13T17:31:31.473469Z"
        },
        "trusted": true
      },
      "execution_count": null,
      "outputs": []
    },
    {
      "cell_type": "code",
      "source": [
        "x_train = tokenizer.texts_to_sequences(x_train)\n",
        "x_val = tokenizer.texts_to_sequences(x_val)"
      ],
      "metadata": {
        "id": "twFmaTLAFwfq",
        "execution": {
          "iopub.status.busy": "2024-08-13T17:31:51.551909Z",
          "iopub.execute_input": "2024-08-13T17:31:51.552271Z",
          "iopub.status.idle": "2024-08-13T17:31:58.663738Z",
          "shell.execute_reply.started": "2024-08-13T17:31:51.552241Z",
          "shell.execute_reply": "2024-08-13T17:31:58.662747Z"
        },
        "trusted": true
      },
      "execution_count": null,
      "outputs": []
    },
    {
      "cell_type": "code",
      "source": [
        "# Pad sequences to ensure uniform input size\n",
        "x_train = pad_sequences(x_train, maxlen=maxlen)\n",
        "x_val = pad_sequences(x_val, maxlen=maxlen)"
      ],
      "metadata": {
        "id": "NQqC_aymFwj_",
        "execution": {
          "iopub.status.busy": "2024-08-13T17:32:02.392702Z",
          "iopub.execute_input": "2024-08-13T17:32:02.393067Z",
          "iopub.status.idle": "2024-08-13T17:32:03.116247Z",
          "shell.execute_reply.started": "2024-08-13T17:32:02.393040Z",
          "shell.execute_reply": "2024-08-13T17:32:03.115420Z"
        },
        "trusted": true
      },
      "execution_count": null,
      "outputs": []
    },
    {
      "cell_type": "code",
      "source": [
        "x_train[1]"
      ],
      "metadata": {
        "execution": {
          "iopub.status.busy": "2024-08-13T17:32:06.348087Z",
          "iopub.execute_input": "2024-08-13T17:32:06.348865Z",
          "iopub.status.idle": "2024-08-13T17:32:06.357817Z",
          "shell.execute_reply.started": "2024-08-13T17:32:06.348829Z",
          "shell.execute_reply": "2024-08-13T17:32:06.356842Z"
        },
        "trusted": true,
        "id": "VDAyZMVQDugu",
        "outputId": "2ba70b5c-ff47-4c2b-b91a-d35365783cc8"
      },
      "execution_count": null,
      "outputs": [
        {
          "execution_count": 17,
          "output_type": "execute_result",
          "data": {
            "text/plain": "array([    0,     0,     0,     0,     0,     0,     0,     0,     0,\n           0,     0,     0,     0,     0,     0,     0,     0,     0,\n           0,     0,     0,     0,     0,     0,     0,     0,     0,\n           0,     0,     0,     0,     0,     0,     0,     0,     0,\n           0,     0,     0,     0,     0,     0,     0,     0,     0,\n           0,     0,     0,     0,     0,     0,     0,     0,     0,\n           0,     0,     0,     0,     0,     0,     0,     0,     0,\n           0,     0,     0,     0,     0,     0,     0,     0,     0,\n           0,     0,     0,     0,     0,     0,     0,     0,     0,\n           0,     0,     0,     0,     0,     0,     0,     0,     0,\n           0,     0,     0,     0,     0,     0,     0,     0,     0,\n           0,     0,     0,     0,     0,     0,     0,     0,     0,\n           0,     0,     0,     0,     0,     0,     0,     0,     0,\n           0,     0,     0,     0,     0,     0,     0,     0,     0,\n           0,     0,     0,     0,     0,     0,     0,     0,     0,\n           0,     0,     0,     0,     0,     0,     0,     0,     0,\n           0,     0,     0,     0,     0,     0,     0,     0,     0,\n           0,     0,     0,     0,     0,     0,     0,     0,     0,\n           0,     0,     0,     0,     0,     0,     0,     0,     0,\n           0,     0,     0,     0,     0,     0,     0,     0,     0,\n           0,     0,     0,     0,     0,     0,     0,     0,     0,\n           0,     0,     0,     0,     0,     0,     0,     0,     0,\n           0,     0,     0,     0,     0,     0,     0,     0,     0,\n           0,     0,     0,     0,     0,     0,     0,     0,     0,\n           0,     0,     0,     0,     0,     0,     0,     0,     0,\n           0,     0,     0,     0,     0,     0,     0,     0,     0,\n           0,     0,     0,     0,     0,     0,     0,     0,     0,\n           0,     0,     0,     0,     0,     0,     0,     0,     0,\n           0,     0,     0,     0,     0,     0,     0,     0,     0,\n           0,     0,     0,     0,     0,     0,     0,     0,     0,\n           0,     0,     0,     0,     0,     0,     0,     0,     0,\n           0,     0,     0,     0,     0,     0,     0,     0,     0,\n           0,     0,     0,     0,     0,     0,     0,     0,     0,\n           0,     0,     0,     0,     0,     0,     0,     0,     0,\n           0,     0,     0,     0,     0,     0,     0,     0,     0,\n           0,     0,     0,     0,     0,     0,     0,     0,     0,\n           0,     0,     0,     0,     0,     0,     0,     0,     0,\n           0,     0,     0,     0,     0,     0,     0,     0,     0,\n           0,     0,     0,     0,     0,     0,     0,     0,     0,\n           0,     0,     0,     0,     0,     0,     0,     0,     0,\n           0,     0,     0,     0,     0,     0,     0,     0,     0,\n           0,     0,     0,     0,     0,     0,     0,     0,     0,\n           0,     0,     0,     0,     0,     0,     0,     0,     0,\n           0,     0,     0,     0,     0,     0,     0,     0,     0,\n           0,     0,     0,     0,     0,     0,     0,     0,     0,\n           0,     0,     0,     0,     0,     0,     0,     0,     0,\n           0,     0,     0,     0,     0,     0,     0,     0,     0,\n           0,     0,     0,     0,     0,     0,     0,     0,     0,\n           0,     0,     0,     0,     0,     0,     0,     0,     0,\n           0,     0,     0,     0,     0,     0,     0,     0,     0,\n           0,     0,     0,     0,     0,     0,     0,     0,     0,\n           0,     0,     0,     0,     0,     0,     0,     0,     0,\n           0,     0,     0,     0,     0,     0,     0,     0,     0,\n           0,     0,     0,     0,     0,     0,     0,     0,     0,\n           0,     0,     0,     0,     0,     0,     0,     0,     0,\n           0,     0,     0,     0,     0,     0,     0,     0,     0,\n           0,     0,     0,     0,     0,     0,     0,     0,     0,\n           0,     0,     0,     0,     0,     0,     0,     0,     0,\n           0,     0,     0,     0,     0,     0,     0,     0,     0,\n           0,     0,     0,     0,     0,     0,     0,     0,     0,\n           0,     0,     0,     0,     0,     0,     0,     0,     0,\n           0,     0,     0,     0,     0,     0,     0,     0,     0,\n           0,     0,     0,     0,     0,     0,     0,     0,     0,\n           0,     0,     0,     0,     0,     0,     0,     0,     0,\n           0,     0,     0,     0,     0,     0,     0,     0,     0,\n           0,     0,     0,     0,     0,     0,     0,     0,     0,\n           0,     0,     0,     0,     0,     0,     0,     0,     0,\n           0,     0,     0,     0,     0,     0,     0,     0,     0,\n           0,     0,     0,     0,     0,     0,     0,     0,     0,\n           0,     0,     0,     0,     0,     0,     0,     0,     0,\n           0,     0,     0,     0,     0,     0,     0,     0,     0,\n           0,     0,     0,     0,     0,     0,     0,     0,     0,\n           0,     0,     0,     0,     0,     0,     0,     0,     0,\n           0,     0,     0,     0,     0,     0,     0,     0,     0,\n           0,     0,     0,     0,     0,     0,     0,     0,     0,\n           0,     0,     0,     0,     0,     0,     0,   165,  1101,\n         165,  7896,    48,   198,  1409,  4289,  5275,   104,   680,\n          89,  1587,   360,    88,   905,   161,    66,   173,    80,\n        3071,    41,   160,     1,   216,    96,    64,    83,  2238,\n        1476,   605,    85,     7,  7897,   199,   308,  1265,    89,\n         100,  4747,   960,    60,   912,    17,    10,   420,     3,\n          15,     9,  1486,  1862,   367,  1588,  6539,   131,  3154,\n        9740,  1101,   165,   722,  7896, 11509,   315,  2559,   119,\n         571, 14372,  7633,    93,    95,    39,  6539,   315,   135,\n        4250,    69,   198,    15,  1111,   267,    91,    91,   144,\n         190,   145,   105,    20,  4290,   198,  7896,   626,   214,\n        2297,  9300,   102,   124,   459,     4,  7102,  1169,   338,\n          48,   595,    35,  1325,   138,   116,  1637,   112,    23,\n         127,   426,     5,    60,    48,   256,   116,    65],\n      dtype=int32)"
          },
          "metadata": {}
        }
      ]
    },
    {
      "cell_type": "markdown",
      "source": [
        "## **2. Build the Model**"
      ],
      "metadata": {
        "id": "zII4w6IhSvoP"
      }
    },
    {
      "cell_type": "code",
      "source": [
        "# Input for variable-length sequences of integers\n",
        "inputs = keras.Input(shape=(None,), dtype=\"int32\")\n",
        "\n",
        "# Embed each integer in a 128-dimensional vector\n",
        "x = layers.Embedding(max_features, 128)(inputs)\n",
        "\n",
        "# Add 2 bidirectional LSTMs\n",
        "x = layers.Bidirectional(layers.LSTM(64, return_sequences=True))(x)   # 64\n",
        "x = layers.Bidirectional(layers.LSTM(32))(x)                          # 32\n",
        "\n",
        "# Add a classifier\n",
        "outputs = layers.Dense(1, activation=\"sigmoid\")(x)\n",
        "model = keras.Model(inputs, outputs)\n",
        "model.summary()"
      ],
      "metadata": {
        "colab": {
          "base_uri": "https://localhost:8080/",
          "height": 298
        },
        "id": "w9G2Zg2AjOQq",
        "outputId": "be29464a-324e-4cd7-87d7-3b1c53aac5fd",
        "execution": {
          "iopub.status.busy": "2024-08-13T18:23:05.517363Z",
          "iopub.execute_input": "2024-08-13T18:23:05.517778Z",
          "iopub.status.idle": "2024-08-13T18:23:05.624873Z",
          "shell.execute_reply.started": "2024-08-13T18:23:05.517748Z",
          "shell.execute_reply": "2024-08-13T18:23:05.624019Z"
        },
        "trusted": true
      },
      "execution_count": null,
      "outputs": [
        {
          "output_type": "display_data",
          "data": {
            "text/plain": "\u001b[1mModel: \"functional_5\"\u001b[0m\n",
            "text/html": "<pre style=\"white-space:pre;overflow-x:auto;line-height:normal;font-family:Menlo,'DejaVu Sans Mono',consolas,'Courier New',monospace\"><span style=\"font-weight: bold\">Model: \"functional_5\"</span>\n</pre>\n"
          },
          "metadata": {}
        },
        {
          "output_type": "display_data",
          "data": {
            "text/plain": "┏━━━━━━━━━━━━━━━━━━━━━━━━━━━━━━━━━┳━━━━━━━━━━━━━━━━━━━━━━━━┳━━━━━━━━━━━━━━━┓\n┃\u001b[1m \u001b[0m\u001b[1mLayer (type)                   \u001b[0m\u001b[1m \u001b[0m┃\u001b[1m \u001b[0m\u001b[1mOutput Shape          \u001b[0m\u001b[1m \u001b[0m┃\u001b[1m \u001b[0m\u001b[1m      Param #\u001b[0m\u001b[1m \u001b[0m┃\n┡━━━━━━━━━━━━━━━━━━━━━━━━━━━━━━━━━╇━━━━━━━━━━━━━━━━━━━━━━━━╇━━━━━━━━━━━━━━━┩\n│ input_layer_5 (\u001b[38;5;33mInputLayer\u001b[0m)      │ (\u001b[38;5;45mNone\u001b[0m, \u001b[38;5;45mNone\u001b[0m)           │             \u001b[38;5;34m0\u001b[0m │\n├─────────────────────────────────┼────────────────────────┼───────────────┤\n│ embedding_7 (\u001b[38;5;33mEmbedding\u001b[0m)         │ (\u001b[38;5;45mNone\u001b[0m, \u001b[38;5;45mNone\u001b[0m, \u001b[38;5;34m128\u001b[0m)      │     \u001b[38;5;34m2,560,000\u001b[0m │\n├─────────────────────────────────┼────────────────────────┼───────────────┤\n│ bidirectional_10                │ (\u001b[38;5;45mNone\u001b[0m, \u001b[38;5;45mNone\u001b[0m, \u001b[38;5;34m128\u001b[0m)      │        \u001b[38;5;34m98,816\u001b[0m │\n│ (\u001b[38;5;33mBidirectional\u001b[0m)                 │                        │               │\n├─────────────────────────────────┼────────────────────────┼───────────────┤\n│ bidirectional_11                │ (\u001b[38;5;45mNone\u001b[0m, \u001b[38;5;34m64\u001b[0m)             │        \u001b[38;5;34m41,216\u001b[0m │\n│ (\u001b[38;5;33mBidirectional\u001b[0m)                 │                        │               │\n├─────────────────────────────────┼────────────────────────┼───────────────┤\n│ dense_7 (\u001b[38;5;33mDense\u001b[0m)                 │ (\u001b[38;5;45mNone\u001b[0m, \u001b[38;5;34m1\u001b[0m)              │            \u001b[38;5;34m65\u001b[0m │\n└─────────────────────────────────┴────────────────────────┴───────────────┘\n",
            "text/html": "<pre style=\"white-space:pre;overflow-x:auto;line-height:normal;font-family:Menlo,'DejaVu Sans Mono',consolas,'Courier New',monospace\">┏━━━━━━━━━━━━━━━━━━━━━━━━━━━━━━━━━┳━━━━━━━━━━━━━━━━━━━━━━━━┳━━━━━━━━━━━━━━━┓\n┃<span style=\"font-weight: bold\"> Layer (type)                    </span>┃<span style=\"font-weight: bold\"> Output Shape           </span>┃<span style=\"font-weight: bold\">       Param # </span>┃\n┡━━━━━━━━━━━━━━━━━━━━━━━━━━━━━━━━━╇━━━━━━━━━━━━━━━━━━━━━━━━╇━━━━━━━━━━━━━━━┩\n│ input_layer_5 (<span style=\"color: #0087ff; text-decoration-color: #0087ff\">InputLayer</span>)      │ (<span style=\"color: #00d7ff; text-decoration-color: #00d7ff\">None</span>, <span style=\"color: #00d7ff; text-decoration-color: #00d7ff\">None</span>)           │             <span style=\"color: #00af00; text-decoration-color: #00af00\">0</span> │\n├─────────────────────────────────┼────────────────────────┼───────────────┤\n│ embedding_7 (<span style=\"color: #0087ff; text-decoration-color: #0087ff\">Embedding</span>)         │ (<span style=\"color: #00d7ff; text-decoration-color: #00d7ff\">None</span>, <span style=\"color: #00d7ff; text-decoration-color: #00d7ff\">None</span>, <span style=\"color: #00af00; text-decoration-color: #00af00\">128</span>)      │     <span style=\"color: #00af00; text-decoration-color: #00af00\">2,560,000</span> │\n├─────────────────────────────────┼────────────────────────┼───────────────┤\n│ bidirectional_10                │ (<span style=\"color: #00d7ff; text-decoration-color: #00d7ff\">None</span>, <span style=\"color: #00d7ff; text-decoration-color: #00d7ff\">None</span>, <span style=\"color: #00af00; text-decoration-color: #00af00\">128</span>)      │        <span style=\"color: #00af00; text-decoration-color: #00af00\">98,816</span> │\n│ (<span style=\"color: #0087ff; text-decoration-color: #0087ff\">Bidirectional</span>)                 │                        │               │\n├─────────────────────────────────┼────────────────────────┼───────────────┤\n│ bidirectional_11                │ (<span style=\"color: #00d7ff; text-decoration-color: #00d7ff\">None</span>, <span style=\"color: #00af00; text-decoration-color: #00af00\">64</span>)             │        <span style=\"color: #00af00; text-decoration-color: #00af00\">41,216</span> │\n│ (<span style=\"color: #0087ff; text-decoration-color: #0087ff\">Bidirectional</span>)                 │                        │               │\n├─────────────────────────────────┼────────────────────────┼───────────────┤\n│ dense_7 (<span style=\"color: #0087ff; text-decoration-color: #0087ff\">Dense</span>)                 │ (<span style=\"color: #00d7ff; text-decoration-color: #00d7ff\">None</span>, <span style=\"color: #00af00; text-decoration-color: #00af00\">1</span>)              │            <span style=\"color: #00af00; text-decoration-color: #00af00\">65</span> │\n└─────────────────────────────────┴────────────────────────┴───────────────┘\n</pre>\n"
          },
          "metadata": {}
        },
        {
          "output_type": "display_data",
          "data": {
            "text/plain": "\u001b[1m Total params: \u001b[0m\u001b[38;5;34m2,700,097\u001b[0m (10.30 MB)\n",
            "text/html": "<pre style=\"white-space:pre;overflow-x:auto;line-height:normal;font-family:Menlo,'DejaVu Sans Mono',consolas,'Courier New',monospace\"><span style=\"font-weight: bold\"> Total params: </span><span style=\"color: #00af00; text-decoration-color: #00af00\">2,700,097</span> (10.30 MB)\n</pre>\n"
          },
          "metadata": {}
        },
        {
          "output_type": "display_data",
          "data": {
            "text/plain": "\u001b[1m Trainable params: \u001b[0m\u001b[38;5;34m2,700,097\u001b[0m (10.30 MB)\n",
            "text/html": "<pre style=\"white-space:pre;overflow-x:auto;line-height:normal;font-family:Menlo,'DejaVu Sans Mono',consolas,'Courier New',monospace\"><span style=\"font-weight: bold\"> Trainable params: </span><span style=\"color: #00af00; text-decoration-color: #00af00\">2,700,097</span> (10.30 MB)\n</pre>\n"
          },
          "metadata": {}
        },
        {
          "output_type": "display_data",
          "data": {
            "text/plain": "\u001b[1m Non-trainable params: \u001b[0m\u001b[38;5;34m0\u001b[0m (0.00 B)\n",
            "text/html": "<pre style=\"white-space:pre;overflow-x:auto;line-height:normal;font-family:Menlo,'DejaVu Sans Mono',consolas,'Courier New',monospace\"><span style=\"font-weight: bold\"> Non-trainable params: </span><span style=\"color: #00af00; text-decoration-color: #00af00\">0</span> (0.00 B)\n</pre>\n"
          },
          "metadata": {}
        }
      ]
    },
    {
      "cell_type": "markdown",
      "source": [
        "## **3. Train the model**"
      ],
      "metadata": {
        "id": "Iw9DxUpzTn8W"
      }
    },
    {
      "cell_type": "code",
      "source": [
        "model.compile(loss=\"binary_crossentropy\", optimizer=\"adam\", metrics=[\"accuracy\"])\n",
        "history = model.fit(x_train, y_train, batch_size=128, epochs=10, validation_data=(x_val, y_val), verbose=2)"
      ],
      "metadata": {
        "colab": {
          "background_save": true,
          "base_uri": "https://localhost:8080/"
        },
        "id": "tPAeKQtPj_tc",
        "execution": {
          "iopub.status.busy": "2024-08-13T18:23:08.971454Z",
          "iopub.execute_input": "2024-08-13T18:23:08.972302Z",
          "iopub.status.idle": "2024-08-13T18:29:03.396341Z",
          "shell.execute_reply.started": "2024-08-13T18:23:08.972264Z",
          "shell.execute_reply": "2024-08-13T18:29:03.395565Z"
        },
        "trusted": true,
        "outputId": "7423b916-2935-4c63-f9a0-c4fe9ec21327"
      },
      "execution_count": null,
      "outputs": [
        {
          "name": "stdout",
          "text": "Epoch 1/10\n196/196 - 38s - 192ms/step - accuracy: 0.8018 - loss: 0.4325 - val_accuracy: 0.8677 - val_loss: 0.3212\nEpoch 2/10\n196/196 - 34s - 172ms/step - accuracy: 0.9202 - loss: 0.2151 - val_accuracy: 0.8730 - val_loss: 0.3356\nEpoch 3/10\n196/196 - 41s - 210ms/step - accuracy: 0.9620 - loss: 0.1172 - val_accuracy: 0.8614 - val_loss: 0.3968\nEpoch 4/10\n196/196 - 41s - 208ms/step - accuracy: 0.9738 - loss: 0.0842 - val_accuracy: 0.8553 - val_loss: 0.4272\nEpoch 5/10\n196/196 - 33s - 171ms/step - accuracy: 0.9822 - loss: 0.0605 - val_accuracy: 0.8520 - val_loss: 0.5525\nEpoch 6/10\n196/196 - 34s - 172ms/step - accuracy: 0.9890 - loss: 0.0421 - val_accuracy: 0.8522 - val_loss: 0.5534\nEpoch 7/10\n196/196 - 34s - 171ms/step - accuracy: 0.9899 - loss: 0.0369 - val_accuracy: 0.8438 - val_loss: 0.6158\nEpoch 8/10\n196/196 - 33s - 171ms/step - accuracy: 0.9893 - loss: 0.0385 - val_accuracy: 0.8504 - val_loss: 0.5942\nEpoch 9/10\n196/196 - 33s - 171ms/step - accuracy: 0.9926 - loss: 0.0275 - val_accuracy: 0.8331 - val_loss: 0.6932\nEpoch 10/10\n196/196 - 34s - 171ms/step - accuracy: 0.9944 - loss: 0.0246 - val_accuracy: 0.8423 - val_loss: 0.6902\n",
          "output_type": "stream"
        }
      ]
    },
    {
      "cell_type": "markdown",
      "source": [
        "## **4. Evaluate the trained model**"
      ],
      "metadata": {
        "id": "hGYllrPMTqj7"
      }
    },
    {
      "cell_type": "code",
      "source": [
        "# Evaluate the model\n",
        "score = model.evaluate(x_val, y_val, verbose=0)\n",
        "print(\"Test loss:\", score[0])\n",
        "print(\"Test accuracy:\", score[1])\n",
        "\n",
        "# Plot the train and val loss\n",
        "plt.figure(figsize=(12, 4))\n",
        "plt.subplot(1, 2, 1)\n",
        "plt.plot(history.history['loss'], label='Training Loss')\n",
        "plt.plot(history.history['val_loss'], label='Validation Loss')\n",
        "plt.title('Training and Validation Loss')\n",
        "plt.xlabel('Epochs')\n",
        "plt.ylabel('Loss')\n",
        "plt.legend()\n",
        "\n",
        "# Plot the train and val accuracy\n",
        "plt.subplot(1, 2, 2)\n",
        "plt.plot(history.history['accuracy'], label='Training Accuracy')\n",
        "plt.plot(history.history['val_accuracy'], label='Validation Accuracy')\n",
        "plt.title('Training and Validation Accuracy')\n",
        "plt.xlabel('Epochs')\n",
        "plt.ylabel('Accuracy')\n",
        "plt.legend()\n",
        "\n",
        "plt.show()"
      ],
      "metadata": {
        "colab": {
          "base_uri": "https://localhost:8080/",
          "height": 446
        },
        "id": "tOH7KBYgpOq8",
        "outputId": "e9049cf6-f5eb-4509-8f1b-69419c4be9b8",
        "execution": {
          "iopub.status.busy": "2024-08-13T18:29:03.398026Z",
          "iopub.execute_input": "2024-08-13T18:29:03.398308Z",
          "iopub.status.idle": "2024-08-13T18:29:31.054102Z",
          "shell.execute_reply.started": "2024-08-13T18:29:03.398283Z",
          "shell.execute_reply": "2024-08-13T18:29:31.053118Z"
        },
        "trusted": true
      },
      "execution_count": null,
      "outputs": [
        {
          "name": "stdout",
          "text": "Test loss: 0.690174400806427\nTest accuracy: 0.8422799706459045\n",
          "output_type": "stream"
        },
        {
          "output_type": "display_data",
          "data": {
            "text/plain": "<Figure size 1200x400 with 2 Axes>",
            "image/png": "[encoded data removed]"
          },
          "metadata": {}
        }
      ]
    },
    {
      "cell_type": "markdown",
      "source": [
        "**Судячі з метрик знятих в процесі тренування, модель оверфітиться вже на другій епосі і далі втрачає якість, якщо дивитися на валідаційних даних.**"
      ],
      "metadata": {
        "id": "sHSjE4E4Dugw"
      }
    }
  ]
}